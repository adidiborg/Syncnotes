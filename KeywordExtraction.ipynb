{
 "cells": [
  {
   "cell_type": "markdown",
   "id": "conservative-sydney",
   "metadata": {},
   "source": [
    "# Keyword Extraction"
   ]
  },
  {
   "cell_type": "code",
   "execution_count": 8,
   "id": "filled-commerce",
   "metadata": {},
   "outputs": [],
   "source": [
    "from rake_nltk import Rake"
   ]
  },
  {
   "cell_type": "code",
   "execution_count": 21,
   "id": "rapid-pierre",
   "metadata": {},
   "outputs": [],
   "source": [
    "r = Rake()"
   ]
  },
  {
   "cell_type": "code",
   "execution_count": 26,
   "id": "clean-leonard",
   "metadata": {},
   "outputs": [],
   "source": [
    "text = \"hi my name is aditya borgaonkar. i am a software engineer.\""
   ]
  },
  {
   "cell_type": "code",
   "execution_count": 27,
   "id": "lucky-performer",
   "metadata": {},
   "outputs": [
    {
     "data": {
      "text/plain": [
       "['software engineer', 'aditya borgaonkar', 'name', 'hi']"
      ]
     },
     "execution_count": 27,
     "metadata": {},
     "output_type": "execute_result"
    }
   ],
   "source": [
    "r.extract_keywords_from_text(text)\n",
    "r.get_ranked_phrases()[0:5]"
   ]
  },
  {
   "cell_type": "code",
   "execution_count": null,
   "id": "partial-submission",
   "metadata": {},
   "outputs": [],
   "source": []
  }
 ],
 "metadata": {
  "kernelspec": {
   "display_name": "Python 3",
   "language": "python",
   "name": "python3"
  },
  "language_info": {
   "codemirror_mode": {
    "name": "ipython",
    "version": 3
   },
   "file_extension": ".py",
   "mimetype": "text/x-python",
   "name": "python",
   "nbconvert_exporter": "python",
   "pygments_lexer": "ipython3",
   "version": "3.9.1"
  }
 },
 "nbformat": 4,
 "nbformat_minor": 5
}
